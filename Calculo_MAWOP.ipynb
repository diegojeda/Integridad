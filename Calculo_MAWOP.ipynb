{
  "nbformat": 4,
  "nbformat_minor": 5,
  "metadata": {
    "kernelspec": {
      "display_name": "Python 3",
      "language": "python",
      "name": "python3"
    },
    "language_info": {
      "codemirror_mode": {
        "name": "ipython",
        "version": 3
      },
      "file_extension": ".py",
      "mimetype": "text/x-python",
      "name": "python",
      "nbconvert_exporter": "python",
      "pygments_lexer": "ipython3",
      "version": "3.8.8"
    },
    "colab": {
      "name": "Calculo MAWOP.ipynb",
      "provenance": [],
      "include_colab_link": true
    }
  },
  "cells": [
    {
      "cell_type": "markdown",
      "metadata": {
        "id": "view-in-github",
        "colab_type": "text"
      },
      "source": [
        "<a href=\"https://colab.research.google.com/github/diegojeda/Integridad/blob/main/Calculo_MAWOP.ipynb\" target=\"_parent\"><img src=\"https://colab.research.google.com/assets/colab-badge.svg\" alt=\"Open In Colab\"/></a>"
      ]
    },
    {
      "cell_type": "markdown",
      "metadata": {
        "id": "04dbb363-2e98-4e73-9991-b5d5163f5975"
      },
      "source": [
        "# CALCULOS DE MAWOP DE UN POZO"
      ],
      "id": "04dbb363-2e98-4e73-9991-b5d5163f5975"
    },
    {
      "cell_type": "code",
      "metadata": {
        "id": "b7bff649-9dbd-46f6-af13-9eae5748061d"
      },
      "source": [
        "# Importamos las librerias necesarias\n",
        "import numpy as np\n",
        "import pandas as pd\n",
        "import matplotlib.pyplot as plt\n",
        "import seaborn as sns\n",
        "import plotly.express as px\n",
        "from IPython.display import clear_output\n",
        "from PIL import Image\n",
        "import urllib.request\n",
        "import os\n",
        "\n",
        "import warnings\n",
        "warnings.filterwarnings(\"ignore\")\n",
        "\n",
        "plt.style.use('ggplot')\n",
        "%matplotlib inline"
      ],
      "id": "b7bff649-9dbd-46f6-af13-9eae5748061d",
      "execution_count": 77,
      "outputs": []
    },
    {
      "cell_type": "markdown",
      "metadata": {
        "id": "a9172bbd-1d79-49b1-83af-764a090a7604"
      },
      "source": [
        "# 1. Lectura De Parametros Del Pozo"
      ],
      "id": "a9172bbd-1d79-49b1-83af-764a090a7604"
    },
    {
      "cell_type": "code",
      "metadata": {
        "id": "920e8c69-ed9f-4d3c-88f8-1cfc4c5c5d35"
      },
      "source": [
        "# Creamos un dataframe de la informacion del estado mecanico\n",
        "\n",
        "# Tabla de datos de tubulares\n",
        "#          Tubular                     Descripcion       Profundidad  Yield    Colapso  Tope De Cemento\"     \n",
        "Tabla = [[\"Tubing\"              , '2 7/8\" - 6.5# - L80'    ,9000      ,10570  ,11160    ,\"NA\" ],\n",
        "         [\"Casing de Produccion\", '5 1/2\" - 17# - P110'    ,10000     ,10640  ,7480     ,4000 ],\n",
        "         [\"Casing Intermedio 1\" , '10 3/4\" - 55.5# - P110' ,5000      ,8860   ,5950     ,1200 ],\n",
        "         [\"Casing Intermedio 2 \", '13 3/8\" - 68# - K55'    ,1000      ,3450   ,1950     ,0    ],\n",
        "         [\"Casing de Superficie\", '18 5/8\" - 87.5# - K55'  ,500       ,2250   ,630      ,0    ]\n",
        "        ]\n",
        "\n",
        "Tubulares = pd.DataFrame(Tabla,columns=[\"Tubular\",\"Descripcion\",\"Profundidad\",\"Yield\",\"Colapso\",\"Tope De Cemento\"],dtype=float)\n",
        "Tubulares=Tubulares.set_index('Tubular')\n",
        "\n",
        "# Densidades y presiones en los anulares\n",
        "#          Tubular    Densidad Presion\n",
        "Tabla = [[\"Tubing\",     2.6,     500    ],\n",
        "         [\"Anular A\",   13.0,    240    ], \n",
        "         [\"Anular B\",   12.0,     0     ],\n",
        "         [\"Anular C\",   10.0,     0     ],\n",
        "         [\"Anular D\",    9.0,     0     ]\n",
        "        ]\n",
        "\n",
        "Anulares = pd.DataFrame(Tabla,columns=[\"Anular\",\"Densidad De Fluido\",\"Presion En Superficie\"],dtype=float)\n",
        "Anulares=Anulares.set_index('Anular')\n",
        "\n",
        "# Caracteristicas del packer\n",
        "Packer = {\"Profundidad\":9000,\n",
        "          \"Rating\":10000\n",
        "         }\n",
        "\n",
        "# Profundidad y Densidad de Fractura de zona expuesta\n",
        "#          Profundidad   Densidad\n",
        "Tabla = [[    1000,        19.5     ]]\n",
        "\n",
        "Formaciones_Expuestas = pd.DataFrame(Tabla,columns=[\"Profundidad\",\"Gradiente\"],dtype=float)\n",
        "\n",
        "# Informacion del rating de presion del Cabezal\n",
        "Pw = 5000\n",
        "\n",
        "# Crearemos una lista de la evaluacion de MAWOP por elemento:\n",
        "MAWOP = []"
      ],
      "id": "920e8c69-ed9f-4d3c-88f8-1cfc4c5c5d35",
      "execution_count": 78,
      "outputs": []
    },
    {
      "cell_type": "code",
      "metadata": {
        "colab": {
          "base_uri": "https://localhost:8080/",
          "height": 235
        },
        "id": "829bd1c6-3fe9-4f1c-865c-ef55beaad01a",
        "outputId": "73bdfc8b-71ac-474b-d04b-228a2f8521a4"
      },
      "source": [
        "Tubulares"
      ],
      "id": "829bd1c6-3fe9-4f1c-865c-ef55beaad01a",
      "execution_count": 79,
      "outputs": [
        {
          "output_type": "execute_result",
          "data": {
            "text/html": [
              "<div>\n",
              "<style scoped>\n",
              "    .dataframe tbody tr th:only-of-type {\n",
              "        vertical-align: middle;\n",
              "    }\n",
              "\n",
              "    .dataframe tbody tr th {\n",
              "        vertical-align: top;\n",
              "    }\n",
              "\n",
              "    .dataframe thead th {\n",
              "        text-align: right;\n",
              "    }\n",
              "</style>\n",
              "<table border=\"1\" class=\"dataframe\">\n",
              "  <thead>\n",
              "    <tr style=\"text-align: right;\">\n",
              "      <th></th>\n",
              "      <th>Descripcion</th>\n",
              "      <th>Profundidad</th>\n",
              "      <th>Yield</th>\n",
              "      <th>Colapso</th>\n",
              "      <th>Tope De Cemento</th>\n",
              "    </tr>\n",
              "    <tr>\n",
              "      <th>Tubular</th>\n",
              "      <th></th>\n",
              "      <th></th>\n",
              "      <th></th>\n",
              "      <th></th>\n",
              "      <th></th>\n",
              "    </tr>\n",
              "  </thead>\n",
              "  <tbody>\n",
              "    <tr>\n",
              "      <th>Tubing</th>\n",
              "      <td>2 7/8\" - 6.5# - L80</td>\n",
              "      <td>9000.0</td>\n",
              "      <td>10570.0</td>\n",
              "      <td>11160.0</td>\n",
              "      <td>NA</td>\n",
              "    </tr>\n",
              "    <tr>\n",
              "      <th>Casing de Produccion</th>\n",
              "      <td>5 1/2\" - 17# - P110</td>\n",
              "      <td>10000.0</td>\n",
              "      <td>10640.0</td>\n",
              "      <td>7480.0</td>\n",
              "      <td>4000</td>\n",
              "    </tr>\n",
              "    <tr>\n",
              "      <th>Casing Intermedio 1</th>\n",
              "      <td>10 3/4\" - 55.5# - P110</td>\n",
              "      <td>5000.0</td>\n",
              "      <td>8860.0</td>\n",
              "      <td>5950.0</td>\n",
              "      <td>1200</td>\n",
              "    </tr>\n",
              "    <tr>\n",
              "      <th>Casing Intermedio 2</th>\n",
              "      <td>13 3/8\" - 68# - K55</td>\n",
              "      <td>1000.0</td>\n",
              "      <td>3450.0</td>\n",
              "      <td>1950.0</td>\n",
              "      <td>0</td>\n",
              "    </tr>\n",
              "    <tr>\n",
              "      <th>Casing de Superficie</th>\n",
              "      <td>18 5/8\" - 87.5# - K55</td>\n",
              "      <td>500.0</td>\n",
              "      <td>2250.0</td>\n",
              "      <td>630.0</td>\n",
              "      <td>0</td>\n",
              "    </tr>\n",
              "  </tbody>\n",
              "</table>\n",
              "</div>"
            ],
            "text/plain": [
              "                                 Descripcion  ...  Tope De Cemento\n",
              "Tubular                                       ...                 \n",
              "Tubing                   2 7/8\" - 6.5# - L80  ...               NA\n",
              "Casing de Produccion     5 1/2\" - 17# - P110  ...             4000\n",
              "Casing Intermedio 1   10 3/4\" - 55.5# - P110  ...             1200\n",
              "Casing Intermedio 2      13 3/8\" - 68# - K55  ...                0\n",
              "Casing de Superficie   18 5/8\" - 87.5# - K55  ...                0\n",
              "\n",
              "[5 rows x 5 columns]"
            ]
          },
          "metadata": {
            "tags": []
          },
          "execution_count": 79
        }
      ]
    },
    {
      "cell_type": "code",
      "metadata": {
        "colab": {
          "base_uri": "https://localhost:8080/",
          "height": 235
        },
        "id": "0c22b688-1133-4fba-913b-0217135ad0ce",
        "outputId": "34c1251d-86f0-4deb-a135-64beeb557b19"
      },
      "source": [
        "Anulares"
      ],
      "id": "0c22b688-1133-4fba-913b-0217135ad0ce",
      "execution_count": 80,
      "outputs": [
        {
          "output_type": "execute_result",
          "data": {
            "text/html": [
              "<div>\n",
              "<style scoped>\n",
              "    .dataframe tbody tr th:only-of-type {\n",
              "        vertical-align: middle;\n",
              "    }\n",
              "\n",
              "    .dataframe tbody tr th {\n",
              "        vertical-align: top;\n",
              "    }\n",
              "\n",
              "    .dataframe thead th {\n",
              "        text-align: right;\n",
              "    }\n",
              "</style>\n",
              "<table border=\"1\" class=\"dataframe\">\n",
              "  <thead>\n",
              "    <tr style=\"text-align: right;\">\n",
              "      <th></th>\n",
              "      <th>Densidad De Fluido</th>\n",
              "      <th>Presion En Superficie</th>\n",
              "    </tr>\n",
              "    <tr>\n",
              "      <th>Anular</th>\n",
              "      <th></th>\n",
              "      <th></th>\n",
              "    </tr>\n",
              "  </thead>\n",
              "  <tbody>\n",
              "    <tr>\n",
              "      <th>Tubing</th>\n",
              "      <td>2.6</td>\n",
              "      <td>500.0</td>\n",
              "    </tr>\n",
              "    <tr>\n",
              "      <th>Anular A</th>\n",
              "      <td>13.0</td>\n",
              "      <td>240.0</td>\n",
              "    </tr>\n",
              "    <tr>\n",
              "      <th>Anular B</th>\n",
              "      <td>12.0</td>\n",
              "      <td>0.0</td>\n",
              "    </tr>\n",
              "    <tr>\n",
              "      <th>Anular C</th>\n",
              "      <td>10.0</td>\n",
              "      <td>0.0</td>\n",
              "    </tr>\n",
              "    <tr>\n",
              "      <th>Anular D</th>\n",
              "      <td>9.0</td>\n",
              "      <td>0.0</td>\n",
              "    </tr>\n",
              "  </tbody>\n",
              "</table>\n",
              "</div>"
            ],
            "text/plain": [
              "          Densidad De Fluido  Presion En Superficie\n",
              "Anular                                             \n",
              "Tubing                   2.6                  500.0\n",
              "Anular A                13.0                  240.0\n",
              "Anular B                12.0                    0.0\n",
              "Anular C                10.0                    0.0\n",
              "Anular D                 9.0                    0.0"
            ]
          },
          "metadata": {
            "tags": []
          },
          "execution_count": 80
        }
      ]
    },
    {
      "cell_type": "code",
      "metadata": {
        "id": "f6f1e2d7-5044-4d2a-812e-4d4663aefab0"
      },
      "source": [
        "# Evaluamos si hay formaciones expuestas en las secciones de hueco\n",
        "\n",
        "# Creamos la columna de Formacion Expuesta\n",
        "Tubulares[\"Formacion Expuesta\"] = \"NO\"\n",
        "\n",
        "# Asignamos NA al Tubing, que no tiene formacion expuesta\n",
        "Tubulares[\"Formacion Expuesta\"][0] = \"NA\"\n",
        "\n",
        "# Realizamos el calculo desde la fila # 2\n",
        "for fila in range(1,len(Tubulares)):\n",
        "    \n",
        "    # Evitamos los calculos cuando no haya tope de cemento\n",
        "    if Tubulares[\"Tope De Cemento\"][fila-1] != \"NA\":\n",
        "        \n",
        "        # Evaluamos si la profundidad del revestimiento esta mas arriba (es menor) que el tope del cemento del la siguiente seccion\n",
        "        if Tubulares[\"Profundidad\"][fila] < Tubulares[\"Tope De Cemento\"][fila-1]:\n",
        "            \n",
        "            # Asignamos el valor de SI, para los revestimientos que no tienen cubierto totalmente su profundidad\n",
        "            Tubulares[\"Formacion Expuesta\"][fila-1] = \"SI\""
      ],
      "id": "f6f1e2d7-5044-4d2a-812e-4d4663aefab0",
      "execution_count": 81,
      "outputs": []
    },
    {
      "cell_type": "code",
      "metadata": {
        "id": "b351dfed-9d91-427f-a1e1-7d48a4c4ca9f"
      },
      "source": [
        "# Asignaremos los datos de las formaciones expuestas\n",
        "\n",
        "# Creamos la columna de Formacion Expuesta\n",
        "Tubulares[\"Profundidad Zona Expuesta\"] = \"NA\"\n",
        "Tubulares[\"Gradiente Fractura\"] = \"NA\"\n",
        "\n",
        "\n",
        "# Realizamos el calculo desde la fila # 2 en el dataframe de tubulares, evitando el dato de Tubing\n",
        "for fila_tub in range(1,len(Tubulares)):\n",
        "    if Tubulares[\"Formacion Expuesta\"][fila_tub]==\"SI\":\n",
        "        for fila_for in range(len(Formaciones_Expuestas)):            \n",
        "            if ((Formaciones_Expuestas[\"Profundidad\"][fila_for] <= Tubulares[\"Profundidad\"][fila_tub+1]) & (Formaciones_Expuestas[\"Profundidad\"][fila_for] <= Tubulares[\"Tope De Cemento\"][fila_tub])):\n",
        "                    Tubulares[\"Profundidad Zona Expuesta\"][fila_tub] = Formaciones_Expuestas[\"Profundidad\"][fila_for]\n",
        "                    Tubulares[\"Gradiente Fractura\"][fila_tub] = Formaciones_Expuestas[\"Gradiente\"][fila_for]"
      ],
      "id": "b351dfed-9d91-427f-a1e1-7d48a4c4ca9f",
      "execution_count": 82,
      "outputs": []
    },
    {
      "cell_type": "code",
      "metadata": {
        "colab": {
          "base_uri": "https://localhost:8080/",
          "height": 235
        },
        "id": "00c0ae5e-a84f-4c83-97b9-0ffd4822f185",
        "outputId": "01deaa63-2f45-4991-aee1-b06ddaf70a99"
      },
      "source": [
        "Tubulares"
      ],
      "id": "00c0ae5e-a84f-4c83-97b9-0ffd4822f185",
      "execution_count": 83,
      "outputs": [
        {
          "output_type": "execute_result",
          "data": {
            "text/html": [
              "<div>\n",
              "<style scoped>\n",
              "    .dataframe tbody tr th:only-of-type {\n",
              "        vertical-align: middle;\n",
              "    }\n",
              "\n",
              "    .dataframe tbody tr th {\n",
              "        vertical-align: top;\n",
              "    }\n",
              "\n",
              "    .dataframe thead th {\n",
              "        text-align: right;\n",
              "    }\n",
              "</style>\n",
              "<table border=\"1\" class=\"dataframe\">\n",
              "  <thead>\n",
              "    <tr style=\"text-align: right;\">\n",
              "      <th></th>\n",
              "      <th>Descripcion</th>\n",
              "      <th>Profundidad</th>\n",
              "      <th>Yield</th>\n",
              "      <th>Colapso</th>\n",
              "      <th>Tope De Cemento</th>\n",
              "      <th>Formacion Expuesta</th>\n",
              "      <th>Profundidad Zona Expuesta</th>\n",
              "      <th>Gradiente Fractura</th>\n",
              "    </tr>\n",
              "    <tr>\n",
              "      <th>Tubular</th>\n",
              "      <th></th>\n",
              "      <th></th>\n",
              "      <th></th>\n",
              "      <th></th>\n",
              "      <th></th>\n",
              "      <th></th>\n",
              "      <th></th>\n",
              "      <th></th>\n",
              "    </tr>\n",
              "  </thead>\n",
              "  <tbody>\n",
              "    <tr>\n",
              "      <th>Tubing</th>\n",
              "      <td>2 7/8\" - 6.5# - L80</td>\n",
              "      <td>9000.0</td>\n",
              "      <td>10570.0</td>\n",
              "      <td>11160.0</td>\n",
              "      <td>NA</td>\n",
              "      <td>NA</td>\n",
              "      <td>NA</td>\n",
              "      <td>NA</td>\n",
              "    </tr>\n",
              "    <tr>\n",
              "      <th>Casing de Produccion</th>\n",
              "      <td>5 1/2\" - 17# - P110</td>\n",
              "      <td>10000.0</td>\n",
              "      <td>10640.0</td>\n",
              "      <td>7480.0</td>\n",
              "      <td>4000</td>\n",
              "      <td>NO</td>\n",
              "      <td>NA</td>\n",
              "      <td>NA</td>\n",
              "    </tr>\n",
              "    <tr>\n",
              "      <th>Casing Intermedio 1</th>\n",
              "      <td>10 3/4\" - 55.5# - P110</td>\n",
              "      <td>5000.0</td>\n",
              "      <td>8860.0</td>\n",
              "      <td>5950.0</td>\n",
              "      <td>1200</td>\n",
              "      <td>SI</td>\n",
              "      <td>1000</td>\n",
              "      <td>19.5</td>\n",
              "    </tr>\n",
              "    <tr>\n",
              "      <th>Casing Intermedio 2</th>\n",
              "      <td>13 3/8\" - 68# - K55</td>\n",
              "      <td>1000.0</td>\n",
              "      <td>3450.0</td>\n",
              "      <td>1950.0</td>\n",
              "      <td>0</td>\n",
              "      <td>NO</td>\n",
              "      <td>NA</td>\n",
              "      <td>NA</td>\n",
              "    </tr>\n",
              "    <tr>\n",
              "      <th>Casing de Superficie</th>\n",
              "      <td>18 5/8\" - 87.5# - K55</td>\n",
              "      <td>500.0</td>\n",
              "      <td>2250.0</td>\n",
              "      <td>630.0</td>\n",
              "      <td>0</td>\n",
              "      <td>NO</td>\n",
              "      <td>NA</td>\n",
              "      <td>NA</td>\n",
              "    </tr>\n",
              "  </tbody>\n",
              "</table>\n",
              "</div>"
            ],
            "text/plain": [
              "                                 Descripcion  ...  Gradiente Fractura\n",
              "Tubular                                       ...                    \n",
              "Tubing                   2 7/8\" - 6.5# - L80  ...                  NA\n",
              "Casing de Produccion     5 1/2\" - 17# - P110  ...                  NA\n",
              "Casing Intermedio 1   10 3/4\" - 55.5# - P110  ...                19.5\n",
              "Casing Intermedio 2      13 3/8\" - 68# - K55  ...                  NA\n",
              "Casing de Superficie   18 5/8\" - 87.5# - K55  ...                  NA\n",
              "\n",
              "[5 rows x 8 columns]"
            ]
          },
          "metadata": {
            "tags": []
          },
          "execution_count": 83
        }
      ]
    },
    {
      "cell_type": "markdown",
      "metadata": {
        "id": "628a119e-edbb-4929-be31-01e967cb139c"
      },
      "source": [
        "#### Observaciones\n",
        "- El anular C tiene formacion expuesta por debajo del zapado del Casing de 13 3/8\".\n",
        "- El valor de $P_{w}$ se define como el valor minimo entre el Rated Working Pressure del cabezal o el valor maximo de la prueba de presion realizada al mismo luego de la instalacion."
      ],
      "id": "628a119e-edbb-4929-be31-01e967cb139c"
    },
    {
      "cell_type": "markdown",
      "metadata": {
        "id": "Vx8QkCuIUKej"
      },
      "source": [
        "![](https://raw.githubusercontent.com/diegojeda/Integridad/main/Pozo.PNG)"
      ],
      "id": "Vx8QkCuIUKej"
    },
    {
      "cell_type": "markdown",
      "metadata": {
        "id": "826299fc-95b7-43f1-9c22-d2932b0eedeb"
      },
      "source": [
        "En anular C tiene formacion expuesta por debajo del zapato del Casing de 13 3/8\""
      ],
      "id": "826299fc-95b7-43f1-9c22-d2932b0eedeb"
    },
    {
      "cell_type": "code",
      "metadata": {
        "colab": {
          "base_uri": "https://localhost:8080/",
          "height": 235
        },
        "id": "c27ed427-0509-44ec-9007-c39c871d6091",
        "outputId": "773dc03c-bace-427b-86df-570530e04fa1"
      },
      "source": [
        "Tubulares"
      ],
      "id": "c27ed427-0509-44ec-9007-c39c871d6091",
      "execution_count": 84,
      "outputs": [
        {
          "output_type": "execute_result",
          "data": {
            "text/html": [
              "<div>\n",
              "<style scoped>\n",
              "    .dataframe tbody tr th:only-of-type {\n",
              "        vertical-align: middle;\n",
              "    }\n",
              "\n",
              "    .dataframe tbody tr th {\n",
              "        vertical-align: top;\n",
              "    }\n",
              "\n",
              "    .dataframe thead th {\n",
              "        text-align: right;\n",
              "    }\n",
              "</style>\n",
              "<table border=\"1\" class=\"dataframe\">\n",
              "  <thead>\n",
              "    <tr style=\"text-align: right;\">\n",
              "      <th></th>\n",
              "      <th>Descripcion</th>\n",
              "      <th>Profundidad</th>\n",
              "      <th>Yield</th>\n",
              "      <th>Colapso</th>\n",
              "      <th>Tope De Cemento</th>\n",
              "      <th>Formacion Expuesta</th>\n",
              "      <th>Profundidad Zona Expuesta</th>\n",
              "      <th>Gradiente Fractura</th>\n",
              "    </tr>\n",
              "    <tr>\n",
              "      <th>Tubular</th>\n",
              "      <th></th>\n",
              "      <th></th>\n",
              "      <th></th>\n",
              "      <th></th>\n",
              "      <th></th>\n",
              "      <th></th>\n",
              "      <th></th>\n",
              "      <th></th>\n",
              "    </tr>\n",
              "  </thead>\n",
              "  <tbody>\n",
              "    <tr>\n",
              "      <th>Tubing</th>\n",
              "      <td>2 7/8\" - 6.5# - L80</td>\n",
              "      <td>9000.0</td>\n",
              "      <td>10570.0</td>\n",
              "      <td>11160.0</td>\n",
              "      <td>NA</td>\n",
              "      <td>NA</td>\n",
              "      <td>NA</td>\n",
              "      <td>NA</td>\n",
              "    </tr>\n",
              "    <tr>\n",
              "      <th>Casing de Produccion</th>\n",
              "      <td>5 1/2\" - 17# - P110</td>\n",
              "      <td>10000.0</td>\n",
              "      <td>10640.0</td>\n",
              "      <td>7480.0</td>\n",
              "      <td>4000</td>\n",
              "      <td>NO</td>\n",
              "      <td>NA</td>\n",
              "      <td>NA</td>\n",
              "    </tr>\n",
              "    <tr>\n",
              "      <th>Casing Intermedio 1</th>\n",
              "      <td>10 3/4\" - 55.5# - P110</td>\n",
              "      <td>5000.0</td>\n",
              "      <td>8860.0</td>\n",
              "      <td>5950.0</td>\n",
              "      <td>1200</td>\n",
              "      <td>SI</td>\n",
              "      <td>1000</td>\n",
              "      <td>19.5</td>\n",
              "    </tr>\n",
              "    <tr>\n",
              "      <th>Casing Intermedio 2</th>\n",
              "      <td>13 3/8\" - 68# - K55</td>\n",
              "      <td>1000.0</td>\n",
              "      <td>3450.0</td>\n",
              "      <td>1950.0</td>\n",
              "      <td>0</td>\n",
              "      <td>NO</td>\n",
              "      <td>NA</td>\n",
              "      <td>NA</td>\n",
              "    </tr>\n",
              "    <tr>\n",
              "      <th>Casing de Superficie</th>\n",
              "      <td>18 5/8\" - 87.5# - K55</td>\n",
              "      <td>500.0</td>\n",
              "      <td>2250.0</td>\n",
              "      <td>630.0</td>\n",
              "      <td>0</td>\n",
              "      <td>NO</td>\n",
              "      <td>NA</td>\n",
              "      <td>NA</td>\n",
              "    </tr>\n",
              "  </tbody>\n",
              "</table>\n",
              "</div>"
            ],
            "text/plain": [
              "                                 Descripcion  ...  Gradiente Fractura\n",
              "Tubular                                       ...                    \n",
              "Tubing                   2 7/8\" - 6.5# - L80  ...                  NA\n",
              "Casing de Produccion     5 1/2\" - 17# - P110  ...                  NA\n",
              "Casing Intermedio 1   10 3/4\" - 55.5# - P110  ...                19.5\n",
              "Casing Intermedio 2      13 3/8\" - 68# - K55  ...                  NA\n",
              "Casing de Superficie   18 5/8\" - 87.5# - K55  ...                  NA\n",
              "\n",
              "[5 rows x 8 columns]"
            ]
          },
          "metadata": {
            "tags": []
          },
          "execution_count": 84
        }
      ]
    },
    {
      "cell_type": "code",
      "metadata": {
        "colab": {
          "base_uri": "https://localhost:8080/",
          "height": 235
        },
        "id": "4369acbe-b59d-4c0b-85c0-b147bc4e883b",
        "outputId": "eb9c80ac-0988-4d87-f8f9-b7ad65e75ca1"
      },
      "source": [
        "Anulares"
      ],
      "id": "4369acbe-b59d-4c0b-85c0-b147bc4e883b",
      "execution_count": 85,
      "outputs": [
        {
          "output_type": "execute_result",
          "data": {
            "text/html": [
              "<div>\n",
              "<style scoped>\n",
              "    .dataframe tbody tr th:only-of-type {\n",
              "        vertical-align: middle;\n",
              "    }\n",
              "\n",
              "    .dataframe tbody tr th {\n",
              "        vertical-align: top;\n",
              "    }\n",
              "\n",
              "    .dataframe thead th {\n",
              "        text-align: right;\n",
              "    }\n",
              "</style>\n",
              "<table border=\"1\" class=\"dataframe\">\n",
              "  <thead>\n",
              "    <tr style=\"text-align: right;\">\n",
              "      <th></th>\n",
              "      <th>Densidad De Fluido</th>\n",
              "      <th>Presion En Superficie</th>\n",
              "    </tr>\n",
              "    <tr>\n",
              "      <th>Anular</th>\n",
              "      <th></th>\n",
              "      <th></th>\n",
              "    </tr>\n",
              "  </thead>\n",
              "  <tbody>\n",
              "    <tr>\n",
              "      <th>Tubing</th>\n",
              "      <td>2.6</td>\n",
              "      <td>500.0</td>\n",
              "    </tr>\n",
              "    <tr>\n",
              "      <th>Anular A</th>\n",
              "      <td>13.0</td>\n",
              "      <td>240.0</td>\n",
              "    </tr>\n",
              "    <tr>\n",
              "      <th>Anular B</th>\n",
              "      <td>12.0</td>\n",
              "      <td>0.0</td>\n",
              "    </tr>\n",
              "    <tr>\n",
              "      <th>Anular C</th>\n",
              "      <td>10.0</td>\n",
              "      <td>0.0</td>\n",
              "    </tr>\n",
              "    <tr>\n",
              "      <th>Anular D</th>\n",
              "      <td>9.0</td>\n",
              "      <td>0.0</td>\n",
              "    </tr>\n",
              "  </tbody>\n",
              "</table>\n",
              "</div>"
            ],
            "text/plain": [
              "          Densidad De Fluido  Presion En Superficie\n",
              "Anular                                             \n",
              "Tubing                   2.6                  500.0\n",
              "Anular A                13.0                  240.0\n",
              "Anular B                12.0                    0.0\n",
              "Anular C                10.0                    0.0\n",
              "Anular D                 9.0                    0.0"
            ]
          },
          "metadata": {
            "tags": []
          },
          "execution_count": 85
        }
      ]
    },
    {
      "cell_type": "markdown",
      "metadata": {
        "id": "43aeaafc-8067-4362-bd32-a2d4a85d60b7"
      },
      "source": [
        "# 2. Evaluacion Manual De MAWOP Por Anulares\n",
        "Los calculos de MAWOP (Maximum Allowable Wellhead Operating Pressure) o Maxima Presion Operativa Permitida En Superficie, se deben realizar anular por anular, evaluando los elementos que componen la envolvente, de la cual, el MAWOP sera determinado por el valor minimo de la evaluacion de los siguientes 4 componentes:\n",
        "- Cabezal (Wellhead)\n",
        "- Equipos de Completamiento\n",
        "- Falla Por Fractura De La Formacion\n",
        "- Tubulares"
      ],
      "id": "43aeaafc-8067-4362-bd32-a2d4a85d60b7"
    },
    {
      "cell_type": "markdown",
      "metadata": {
        "id": "d67dba5a-799f-4eb2-9259-098dc48a2071"
      },
      "source": [
        "## 2.1 Evaluacion del Anular \"A\""
      ],
      "id": "d67dba5a-799f-4eb2-9259-098dc48a2071"
    },
    {
      "cell_type": "markdown",
      "metadata": {
        "id": "UK5yza6_Ub-x"
      },
      "source": [
        "![](https://raw.githubusercontent.com/diegojeda/Integridad/0aefef97b64c629bdcb532dfa669e0afa03a52ca/Anular%20A.png)"
      ],
      "id": "UK5yza6_Ub-x"
    },
    {
      "cell_type": "markdown",
      "metadata": {
        "id": "dc407168-b746-4e9c-93ce-1fdefdae8a0f"
      },
      "source": [
        "### 2.1.1 Wellhead\n",
        "El MAWOP basado en el cabezal usaremos esta formula:\n",
        "\n",
        "$$ Wellhead Rating = 0.8 x P_{w} $$\n",
        "\n",
        "Donde:\n",
        "\n",
        "$P_{w}$ se define como el valor minimo entre el Rated Working Pressure del cabezal o el valor maximo de la prueba de presion realizada al mismo luego de la instalacion.\n"
      ],
      "id": "dc407168-b746-4e9c-93ce-1fdefdae8a0f"
    },
    {
      "cell_type": "code",
      "metadata": {
        "colab": {
          "base_uri": "https://localhost:8080/"
        },
        "id": "31357d72-c7b3-451a-ba0e-dfbacdc4afec",
        "outputId": "2267c247-544f-49f3-e736-b27a787ef12d"
      },
      "source": [
        "WHR = 0.8*Pw\n",
        "print(\"El MAWOP Por Cabezal Es: {0:.0f} Psi\".format(WHR))\n",
        "MAWOP.append(int(WHR))"
      ],
      "id": "31357d72-c7b3-451a-ba0e-dfbacdc4afec",
      "execution_count": 86,
      "outputs": [
        {
          "output_type": "stream",
          "text": [
            "El MAWOP Por Cabezal Es: 4000 Psi\n"
          ],
          "name": "stdout"
        }
      ]
    },
    {
      "cell_type": "markdown",
      "metadata": {
        "id": "913152b9-2769-4f7c-ad86-bbbb539207ff"
      },
      "source": [
        "### 2.1.2 Equipos de Completamiento\n",
        "El MAWOP basado en los equipos de completamiento deber ser calculado para cada equipo, usando la siguiente formula:\n",
        "\n",
        "$$ Completion Equipment Rating Component = 0.8 x (P_{cc} - \\Delta P_{cc}) $$\n",
        "\n",
        "Donde:\n",
        "\n",
        "$P_{cc}$ Es el rated working pressure del equipo.\n",
        "\n",
        "$\\Delta P_{cc}$ Es la presion diferencial a traves del equipo de completamiento calculada a la profunidad donde esta ubicado el equipo."
      ],
      "id": "913152b9-2769-4f7c-ad86-bbbb539207ff"
    },
    {
      "cell_type": "markdown",
      "metadata": {
        "id": "98d676d9-44de-410d-8c19-1475d289f243"
      },
      "source": [
        "#### 2.1.2.1 Empaque\n",
        "Procederemos a calcular la presion hidrostatica por encima del empaque y por debajo del empaque para estimar la presion diferencial a través de el:"
      ],
      "id": "98d676d9-44de-410d-8c19-1475d289f243"
    },
    {
      "cell_type": "code",
      "metadata": {
        "colab": {
          "base_uri": "https://localhost:8080/"
        },
        "id": "ec745d97-5464-4cdc-abdf-6a1fb6c35d89",
        "outputId": "696479ec-ba06-4bac-95e2-c9ab2468db36"
      },
      "source": [
        "# Presion hidrostatica por encima del empaque: Dentro del Anular A\n",
        "BHP_T = (Anulares.iloc[1][\"Presion En Superficie\"]) + 0.052 * (Anulares.iloc[1][\"Densidad De Fluido\"])*(Packer[\"Profundidad\"])\n",
        "\n",
        "# Presion hidrostatica por debajo del empaque: dentro del tubing\n",
        "BHP_B = (Anulares.iloc[0][\"Presion En Superficie\"]) + 0.052 * (Anulares.loc[\"Tubing\"][\"Densidad De Fluido\"])*(Packer[\"Profundidad\"])\n",
        "\n",
        "# Evaluamos entonces el empaque\n",
        "Packer_Eval = 0.8 * ( (Packer[\"Rating\"])-(BHP_T-BHP_B) )\n",
        "                     \n",
        "print(\"El MAWOP Por Empaque Es: {0:.0f} Psi\".format(Packer_Eval))\n",
        "MAWOP.append(int(Packer_Eval))"
      ],
      "id": "ec745d97-5464-4cdc-abdf-6a1fb6c35d89",
      "execution_count": 87,
      "outputs": [
        {
          "output_type": "stream",
          "text": [
            "El MAWOP Por Empaque Es: 4314 Psi\n"
          ],
          "name": "stdout"
        }
      ]
    },
    {
      "cell_type": "markdown",
      "metadata": {
        "id": "6d1643d4-3aa1-4baf-8a4b-af47c1b5a753"
      },
      "source": [
        "### 2.1.3 Presion De Falla Por Fractura De La Formacion\n",
        "El MAWOP basado en la presion de falla por fractura de la formacion esta basada en el gradiente de fractura (GF) la cual puede ser determinada de una prueba de integridad de la formacion (FIT - Formation Integrity Test) o por una prueba de fuga (LOT - Leak Off Test) junto con el gradiente de lodo (MWG - Mud Weight Gradient) usado sin tener perdidas en esa seccion de hueco.\n",
        "\n",
        "Esta presion se puede estimar con la siguiente formula:\n",
        "\n",
        "$$ Formation Fracture Breakdown Component = 0.8 x (TVD ( GF - MWG) $$\n",
        "\n",
        "Donde:\n",
        "\n",
        "$TVD$ Es la profundidad vertical medida del punto debil, el cual puede ser el zapato del revestimento anterior que no este cubierto con cemento o el punto mas cercano a la superficie sin sello hidraulico.\n",
        "\n",
        "$GF$ Es el gradiente de fractura del punto debil.\n",
        "\n",
        "$MWG$ Es el gradiente de lodo usado en esa seccion con el cual no ocurrieron perdidas de fluidos."
      ],
      "id": "6d1643d4-3aa1-4baf-8a4b-af47c1b5a753"
    },
    {
      "cell_type": "markdown",
      "metadata": {
        "id": "755c7bd3-c920-445a-807e-1bda52d9ee96"
      },
      "source": [
        "*En este caso, el Anular \"A\" no presenta formaciones expuestas.*"
      ],
      "id": "755c7bd3-c920-445a-807e-1bda52d9ee96"
    },
    {
      "cell_type": "markdown",
      "metadata": {
        "id": "6b1123d6-bf4e-47df-8cf4-208bebb3e532"
      },
      "source": [
        "### 2.1.4 Tubulares\n",
        "Se usará el metodo conocido como Simple De-Rating Method (SDM), el cual se considera apropiado para los pozos donde su historia esta documentada y los indices de desgaste y corrosion no son significativos o relevantes.\n",
        "\n",
        "1) Usando esta metodologia para los tubulares internos y externos, el MAWOP basado en los tubulares para un anular dado será el menor de los siguientes valores:\n",
        "    - 50% del MYIP (Minimum Internal Yield Pressure) del tubular que esta siendo evaluado.\n",
        "    - 75% del MCP (Minimum Collapse Pressure) del tubular interno.\n",
        "    - 80% MIYP del siguiente tubular externo a ser evaluado.\n",
        "\n",
        "\n",
        "2) Para el tubular mas externo al que podria contener presión (por lo general el casing de superfice) el MAWOP será el menor de los siguientes valores:\n",
        "    - 30% del MIYP del tubular evaluado.\n",
        "    - 75% del MCP del tubular interno."
      ],
      "id": "6b1123d6-bf4e-47df-8cf4-208bebb3e532"
    },
    {
      "cell_type": "markdown",
      "metadata": {
        "id": "dc6827c1-495c-4c90-a1bf-402614d3e43d"
      },
      "source": [
        "#### 2.1.4.1 Anular A"
      ],
      "id": "dc6827c1-495c-4c90-a1bf-402614d3e43d"
    },
    {
      "cell_type": "code",
      "metadata": {
        "colab": {
          "base_uri": "https://localhost:8080/"
        },
        "id": "94000b3b-b834-4e9b-833b-1a1a724bcef7",
        "outputId": "92d7f165-3c9a-4645-b498-5bb4b7becfc3"
      },
      "source": [
        "# Evaluacion del tubular a analizar: 5 1/2\" Casing\n",
        "Tub_ev = 0.5 * ( Tubulares.iloc[2][\"Yield\"] )\n",
        "\n",
        "# Evaluacion del tubular interno: 2 7/8\" Tubing\n",
        "Tub_in = 0.75 * ( Tubulares.iloc[1][\"Colapso\"] )\n",
        "\n",
        "# Evaluacion del tubular externo: 10 3/4\" Casing\n",
        "Tub_out = 0.8 * ( Tubulares.iloc[3][\"Colapso\"] )\n",
        "\n",
        "print(\"La Evaluacion Del Tubular Actual {0} Es: {1:.0f} Psi\".format(Tubulares.loc[\"Casing de Produccion\"][\"Descripcion\"],Tub_ev))\n",
        "print(\"La Evaluacion Del Tubular Interno {0} Es: {1:.0f} Psi\".format(Tubulares.loc[\"Tubing\"][\"Descripcion\"],Tub_in))\n",
        "print(\"La Evaluacion Del Tubular Externo {0} Es: {1:.0f} Psi\".format(Tubulares.loc[\"Casing Intermedio 1\"][\"Descripcion\"],Tub_out))\n",
        "\n",
        "list_tub = [Tub_ev,Tub_in,Tub_out]\n",
        "print(\"\\nEl MAWOP Por Tubulares Es: {0:.0f} Psi\".format(min(list_tub)))\n",
        "MAWOP.append(int(min(list_tub)))"
      ],
      "id": "94000b3b-b834-4e9b-833b-1a1a724bcef7",
      "execution_count": 88,
      "outputs": [
        {
          "output_type": "stream",
          "text": [
            "La Evaluacion Del Tubular Actual 5 1/2\" - 17# - P110 Es: 4430 Psi\n",
            "La Evaluacion Del Tubular Interno 2 7/8\" - 6.5# - L80 Es: 5610 Psi\n",
            "La Evaluacion Del Tubular Externo 10 3/4\" - 55.5# - P110 Es: 1560 Psi\n",
            "\n",
            "El MAWOP Por Tubulares Es: 1560 Psi\n"
          ],
          "name": "stdout"
        }
      ]
    },
    {
      "cell_type": "markdown",
      "metadata": {
        "id": "6010514d-735b-4e85-a81b-b0bf139a0ab9"
      },
      "source": [
        "# 3. Evaluacion Automatica De MAWOP Por Anulares"
      ],
      "id": "6010514d-735b-4e85-a81b-b0bf139a0ab9"
    },
    {
      "cell_type": "markdown",
      "metadata": {
        "id": "43cd8134-6bee-4f0d-93a6-c70e1caa3053"
      },
      "source": [
        "## 3.1 Definicion De Funciones Automaticas De Calculo"
      ],
      "id": "43cd8134-6bee-4f0d-93a6-c70e1caa3053"
    },
    {
      "cell_type": "markdown",
      "metadata": {
        "id": "473d1798-a8a7-475d-a609-95242d764d8c"
      },
      "source": [
        "### 3.1.1 Funcion MAWOP Cabezal"
      ],
      "id": "473d1798-a8a7-475d-a609-95242d764d8c"
    },
    {
      "cell_type": "code",
      "metadata": {
        "id": "d65c0bbf-222f-48f3-9c0b-d864785bf529"
      },
      "source": [
        "def MAWOP_WH(HW_Rating):\n",
        "    '''\n",
        "    Funcion que calcula el MAWOP basado en el RWP del cabezal.\n",
        "    \n",
        "    - HW_Rating: Rated Working Pressure del cabezal    \n",
        "    \n",
        "    '''\n",
        "    \n",
        "    MAWOP_WH = int(0.8 * HW_Rating)\n",
        "    print(\"El MAWOP Por Cabezal Es: {0:.0f} Psi\".format(MAWOP_WH))\n",
        "    return MAWOP_WH"
      ],
      "id": "d65c0bbf-222f-48f3-9c0b-d864785bf529",
      "execution_count": 89,
      "outputs": []
    },
    {
      "cell_type": "markdown",
      "metadata": {
        "id": "c1670678-6ac4-4d73-b897-eabd8ec15814"
      },
      "source": [
        "### 3.1.2 Funcion MAWOP Equipos De Completamiento"
      ],
      "id": "c1670678-6ac4-4d73-b897-eabd8ec15814"
    },
    {
      "cell_type": "code",
      "metadata": {
        "id": "04e91e30-c232-4368-b5a9-4c17ca978e77"
      },
      "source": [
        "def MAWOP_Com_Eq(Equipo,Anulares,Anular_in,Anular_out):\n",
        "    '''\n",
        "    Funcion que Calcula el MAWOP basando en un equipo del completamiento\n",
        "    \n",
        "    - Equipo: Diccionario con la Profundidad del Equipo (TVD) y el RWP del mismo.\n",
        "    - Anulares: Dataframe con los datos de los datos de las densidades\n",
        "    - Anular_in: String con el nombre del anular interno del equipo de completamiento.\n",
        "    - Anular_out: String con el nombre del anular externo del equipo de completamiento.\n",
        "    '''\n",
        "    \n",
        "    # Presion hidrostatica por encima del empaque: Dentro del Anular A\n",
        "    BHP_T = (Anulares.loc[Anular_out][\"Presion En Superficie\"]) + 0.052 * (Anulares.loc[Anular_out][\"Densidad De Fluido\"])*(Equipo[\"Profundidad\"])\n",
        "\n",
        "    # Presion hidrostatica por debajo del empaque: dentro del tubing\n",
        "    BHP_B = (Anulares.loc[Anular_in][\"Presion En Superficie\"]) + 0.052 * (Anulares.loc[Anular_in][\"Densidad De Fluido\"])*(Equipo[\"Profundidad\"])\n",
        "\n",
        "    # Evaluamos entonces el empaque\n",
        "    Equipo_Eval = int( 0.8 * ( (Equipo[\"Rating\"])-(BHP_T-BHP_B) ) )\n",
        "\n",
        "    print(\"El MAWOP Por Empaque Es: {0:.0f} Psi\".format(Equipo_Eval))\n",
        "    \n",
        "    return(Equipo_Eval)"
      ],
      "id": "04e91e30-c232-4368-b5a9-4c17ca978e77",
      "execution_count": 90,
      "outputs": []
    },
    {
      "cell_type": "markdown",
      "metadata": {
        "id": "b6ac2886-ba6c-4ce6-9f5d-96f0045be15d"
      },
      "source": [
        "### 3.1.3 Funcion MAWOP Fractura De Formacion"
      ],
      "id": "b6ac2886-ba6c-4ce6-9f5d-96f0045be15d"
    },
    {
      "cell_type": "code",
      "metadata": {
        "id": "78bd54a5-dfe8-4e29-852c-ac63ffdce3e0"
      },
      "source": [
        "def MAWOP_For(Tubulares,Anulares, Anular_Eval):\n",
        "    \n",
        "    ident = Anulares.index.get_loc(Anular_Eval)-1\n",
        "    \n",
        "    if Tubulares[\"Formacion Expuesta\"][ident]==\"SI\":\n",
        "        MAWOP_For = int( 0.8 * (Tubulares[\"Profundidad Zona Expuesta\"][ident] * ( Tubulares[\"Gradiente Fractura\"][ident] - Anulares.loc[\"Anular C\"][\"Densidad De Fluido\"])))\n",
        "        print(\"El MAWOP Por Fractura De Formacion Es: {0:.0f} Psi\".format(MAWOP_For))\n",
        "    else:\n",
        "        print(\"No Tienes Formaciones Expuestas\")"
      ],
      "id": "78bd54a5-dfe8-4e29-852c-ac63ffdce3e0",
      "execution_count": 91,
      "outputs": []
    },
    {
      "cell_type": "markdown",
      "metadata": {
        "id": "cd5d6775-824c-41ad-8042-2059770e052c"
      },
      "source": [
        "### 3.1.4 Funcion MAWOP Tubulares"
      ],
      "id": "cd5d6775-824c-41ad-8042-2059770e052c"
    },
    {
      "cell_type": "code",
      "metadata": {
        "id": "a3fa373c-74ba-426d-bb7f-e4839af03ac9"
      },
      "source": [
        "def MAWOP_Tub(Anulares,Tubulares,Anular_Eval):\n",
        "    '''\n",
        "    Funcion que calcula el MAWOP basado en la fractura de la formacion expuesta, si la hay\n",
        "    \n",
        "    - Anulares: Dataframe con los datos de presion y densidad de los anulares\n",
        "    - Tubulares: Dataframe con los datos de las bases de los tubulares y los topes de cemento.\n",
        "    - Anular_Eval: String con el nombre del anular a evaluar.\n",
        "    \n",
        "    '''\n",
        "    \n",
        "    ident = Anulares.index.get_loc(Anular_Eval)\n",
        "    \n",
        "    if ident < len(Tubulares)-1:\n",
        "        \n",
        "        # Evaluacion del tubular a analizar: 5 1/2\" Casing\n",
        "        Tub_ev = 0.5 * ( Tubulares.iloc[ident][\"Yield\"] )\n",
        "\n",
        "        # Evaluacion del tubular interno: 2 7/8\" Tubing\n",
        "        Tub_in = 0.75 * ( Tubulares.iloc[ident-1][\"Colapso\"] )\n",
        "\n",
        "        # Evaluacion del tubular externo: 10 3/4\" Casing\n",
        "        Tub_out = 0.8 * ( Tubulares.iloc[ident+1][\"Colapso\"] )\n",
        "\n",
        "        list_tub = [Tub_ev,Tub_in,Tub_out]\n",
        "        \n",
        "        print(\"La Evaluacion Del Tubular Actual {0} Es: {1:.0f} Psi\".format(Tubulares.iloc[ident][\"Descripcion\"],Tub_ev))\n",
        "        print(\"La Evaluacion Del Tubular Interno {0} Es: {1:.0f} Psi\".format(Tubulares.iloc[ident-1][\"Descripcion\"],Tub_in))\n",
        "        print(\"La Evaluacion Del Tubular Externo {0} Es: {1:.0f} Psi\".format(Tubulares.iloc[ident+1][\"Descripcion\"],Tub_out))\n",
        "        \n",
        "    else:\n",
        "        # Evaluacion del tubular a analizar: 5 1/2\" Casing\n",
        "        Tub_ev = 0.3 * ( Tubulares.iloc[ident][\"Yield\"] )\n",
        "        \n",
        "        # Evaluacion del tubular interno: 2 7/8\" Tubing\n",
        "        Tub_in = 0.75 * ( Tubulares.iloc[ident-1][\"Colapso\"] )\n",
        "        \n",
        "        print(\"La Evaluacion Del Tubular Actual {0} Es: {1:.0f} Psi\".format(Tubulares.iloc[ident][\"Descripcion\"],Tub_ev))\n",
        "        print(\"La Evaluacion Del Tubular Interno {0} Es: {1:.0f} Psi\".format(Tubulares.iloc[ident-1][\"Descripcion\"],Tub_in))\n",
        "        \n",
        "        list_tub = [Tub_ev,Tub_in]        \n",
        "\n",
        "    print(\"\\nEl MAWOP Por Tubulares Es: {0:.0f} Psi\".format(min(list_tub)))"
      ],
      "id": "a3fa373c-74ba-426d-bb7f-e4839af03ac9",
      "execution_count": 92,
      "outputs": []
    },
    {
      "cell_type": "markdown",
      "metadata": {
        "id": "c5e8e29a-b471-4f10-8fc5-7dfeef2297ca"
      },
      "source": [
        "## 3.2 Evaluacion Anular A"
      ],
      "id": "c5e8e29a-b471-4f10-8fc5-7dfeef2297ca"
    },
    {
      "cell_type": "markdown",
      "metadata": {
        "id": "nJMTdJEfUlgp"
      },
      "source": [
        "![](https://raw.githubusercontent.com/diegojeda/Integridad/0aefef97b64c629bdcb532dfa669e0afa03a52ca/Anular%20A.png)"
      ],
      "id": "nJMTdJEfUlgp"
    },
    {
      "cell_type": "markdown",
      "metadata": {
        "id": "384983d8-764e-4daa-9814-2b26e8603d25"
      },
      "source": [
        "### 3.2.1 Wellhead"
      ],
      "id": "384983d8-764e-4daa-9814-2b26e8603d25"
    },
    {
      "cell_type": "code",
      "metadata": {
        "colab": {
          "base_uri": "https://localhost:8080/"
        },
        "id": "9cc5b447-4911-411d-9cd5-7600c394f251",
        "outputId": "c917e14e-36e7-4b52-de66-f3d70fed8b17"
      },
      "source": [
        "MAWOP_WH(Pw)"
      ],
      "id": "9cc5b447-4911-411d-9cd5-7600c394f251",
      "execution_count": 93,
      "outputs": [
        {
          "output_type": "stream",
          "text": [
            "El MAWOP Por Cabezal Es: 4000 Psi\n"
          ],
          "name": "stdout"
        },
        {
          "output_type": "execute_result",
          "data": {
            "text/plain": [
              "4000"
            ]
          },
          "metadata": {
            "tags": []
          },
          "execution_count": 93
        }
      ]
    },
    {
      "cell_type": "markdown",
      "metadata": {
        "id": "fc2e19a9-ef8f-47ec-bf6d-b6a75ce96c10"
      },
      "source": [
        "### 3.2.2 Equipos De Completamiento"
      ],
      "id": "fc2e19a9-ef8f-47ec-bf6d-b6a75ce96c10"
    },
    {
      "cell_type": "code",
      "metadata": {
        "colab": {
          "base_uri": "https://localhost:8080/"
        },
        "id": "1a7b8ccc-1401-4d4b-8940-b42f7f866bb8",
        "outputId": "9f0bf794-945f-456e-e78a-0e64dd035edf"
      },
      "source": [
        "MAWOP_Com_Eq(Packer,Anulares,\"Tubing\",\"Anular A\")"
      ],
      "id": "1a7b8ccc-1401-4d4b-8940-b42f7f866bb8",
      "execution_count": 94,
      "outputs": [
        {
          "output_type": "stream",
          "text": [
            "El MAWOP Por Empaque Es: 4314 Psi\n"
          ],
          "name": "stdout"
        },
        {
          "output_type": "execute_result",
          "data": {
            "text/plain": [
              "4314"
            ]
          },
          "metadata": {
            "tags": []
          },
          "execution_count": 94
        }
      ]
    },
    {
      "cell_type": "markdown",
      "metadata": {
        "id": "2ed78ce5-f4e1-43e6-a463-347f0c139406"
      },
      "source": [
        "### 3.2.3 Falla Por Fractura De Formacion"
      ],
      "id": "2ed78ce5-f4e1-43e6-a463-347f0c139406"
    },
    {
      "cell_type": "code",
      "metadata": {
        "colab": {
          "base_uri": "https://localhost:8080/"
        },
        "id": "78036e8c-e5b1-4dd5-adae-bc61084d7286",
        "outputId": "452cb9a4-050b-4c79-9eb4-67d1fb515738"
      },
      "source": [
        "MAWOP_For(Tubulares,Anulares, \"Anular A\")"
      ],
      "id": "78036e8c-e5b1-4dd5-adae-bc61084d7286",
      "execution_count": 95,
      "outputs": [
        {
          "output_type": "stream",
          "text": [
            "No Tienes Formaciones Expuestas\n"
          ],
          "name": "stdout"
        }
      ]
    },
    {
      "cell_type": "markdown",
      "metadata": {
        "id": "3a8b7c9b-9f31-4b6e-9203-0c3d04d73c4c"
      },
      "source": [
        "### 3.2.4 Falla Por Tubulares"
      ],
      "id": "3a8b7c9b-9f31-4b6e-9203-0c3d04d73c4c"
    },
    {
      "cell_type": "code",
      "metadata": {
        "colab": {
          "base_uri": "https://localhost:8080/"
        },
        "id": "6358b1b9-c294-4f7d-b22c-a0d59231ab9a",
        "outputId": "82b749c3-1160-4589-a8fc-38d799500aa0"
      },
      "source": [
        "MAWOP_Tub(Anulares,Tubulares,\"Anular A\")"
      ],
      "id": "6358b1b9-c294-4f7d-b22c-a0d59231ab9a",
      "execution_count": 96,
      "outputs": [
        {
          "output_type": "stream",
          "text": [
            "La Evaluacion Del Tubular Actual 5 1/2\" - 17# - P110 Es: 5320 Psi\n",
            "La Evaluacion Del Tubular Interno 2 7/8\" - 6.5# - L80 Es: 8370 Psi\n",
            "La Evaluacion Del Tubular Externo 10 3/4\" - 55.5# - P110 Es: 4760 Psi\n",
            "\n",
            "El MAWOP Por Tubulares Es: 4760 Psi\n"
          ],
          "name": "stdout"
        }
      ]
    },
    {
      "cell_type": "markdown",
      "metadata": {
        "id": "a393f28b-a284-4357-af78-a8271eaac1d9"
      },
      "source": [
        "## 3.3 Evaluacion Anular B"
      ],
      "id": "a393f28b-a284-4357-af78-a8271eaac1d9"
    },
    {
      "cell_type": "markdown",
      "metadata": {
        "id": "_0ruPOhbUwG4"
      },
      "source": [
        "![](https://raw.githubusercontent.com/diegojeda/Integridad/0aefef97b64c629bdcb532dfa669e0afa03a52ca/Anular%20B.png)"
      ],
      "id": "_0ruPOhbUwG4"
    },
    {
      "cell_type": "markdown",
      "metadata": {
        "id": "f93c37d6-9868-4737-904b-c8cf3e024470"
      },
      "source": [
        "### 3.3.1 Wellhead"
      ],
      "id": "f93c37d6-9868-4737-904b-c8cf3e024470"
    },
    {
      "cell_type": "code",
      "metadata": {
        "colab": {
          "base_uri": "https://localhost:8080/"
        },
        "id": "b20542da-05c7-46b7-8a33-10b8771e3e98",
        "outputId": "32d9278a-c400-4ed9-9d52-9f22954b94a8"
      },
      "source": [
        "MAWOP_WH(Pw)"
      ],
      "id": "b20542da-05c7-46b7-8a33-10b8771e3e98",
      "execution_count": 97,
      "outputs": [
        {
          "output_type": "stream",
          "text": [
            "El MAWOP Por Cabezal Es: 4000 Psi\n"
          ],
          "name": "stdout"
        },
        {
          "output_type": "execute_result",
          "data": {
            "text/plain": [
              "4000"
            ]
          },
          "metadata": {
            "tags": []
          },
          "execution_count": 97
        }
      ]
    },
    {
      "cell_type": "markdown",
      "metadata": {
        "id": "1493beaa-24ff-48c5-b986-a86823a5b711"
      },
      "source": [
        "### 3.3.2 Equipos De Completamiento"
      ],
      "id": "1493beaa-24ff-48c5-b986-a86823a5b711"
    },
    {
      "cell_type": "markdown",
      "metadata": {
        "id": "850e0e01-d168-4f27-a471-6446594f360a"
      },
      "source": [
        "No hay equipos de completamiento en el Anular B"
      ],
      "id": "850e0e01-d168-4f27-a471-6446594f360a"
    },
    {
      "cell_type": "markdown",
      "metadata": {
        "id": "8cb72b71-0897-4898-9b1f-2f40f5984f94"
      },
      "source": [
        "### 3.3.3 Falla Por Fractura De Formacion"
      ],
      "id": "8cb72b71-0897-4898-9b1f-2f40f5984f94"
    },
    {
      "cell_type": "code",
      "metadata": {
        "colab": {
          "base_uri": "https://localhost:8080/"
        },
        "id": "d1305c0c-c72e-4b04-a287-26d222637708",
        "outputId": "2bd6d5f7-2a21-4790-d949-c12228821cee"
      },
      "source": [
        "MAWOP_For(Tubulares,Anulares, \"Anular B\")"
      ],
      "id": "d1305c0c-c72e-4b04-a287-26d222637708",
      "execution_count": 98,
      "outputs": [
        {
          "output_type": "stream",
          "text": [
            "No Tienes Formaciones Expuestas\n"
          ],
          "name": "stdout"
        }
      ]
    },
    {
      "cell_type": "markdown",
      "metadata": {
        "id": "be027281-9f8f-431d-aebe-c3473866de1d"
      },
      "source": [
        "### 3.3.4 Falla Por Tubulares"
      ],
      "id": "be027281-9f8f-431d-aebe-c3473866de1d"
    },
    {
      "cell_type": "code",
      "metadata": {
        "colab": {
          "base_uri": "https://localhost:8080/"
        },
        "id": "35d35a35-c669-4c07-b27c-73de3e8e15b4",
        "outputId": "c1b74427-18dc-4bda-f0ae-c962c1005f79"
      },
      "source": [
        "MAWOP_Tub(Anulares,Tubulares,\"Anular B\")"
      ],
      "id": "35d35a35-c669-4c07-b27c-73de3e8e15b4",
      "execution_count": 99,
      "outputs": [
        {
          "output_type": "stream",
          "text": [
            "La Evaluacion Del Tubular Actual 10 3/4\" - 55.5# - P110 Es: 4430 Psi\n",
            "La Evaluacion Del Tubular Interno 5 1/2\" - 17# - P110 Es: 5610 Psi\n",
            "La Evaluacion Del Tubular Externo 13 3/8\" - 68# - K55 Es: 1560 Psi\n",
            "\n",
            "El MAWOP Por Tubulares Es: 1560 Psi\n"
          ],
          "name": "stdout"
        }
      ]
    },
    {
      "cell_type": "markdown",
      "metadata": {
        "id": "4dd6bc6b-0e58-40c3-9a1b-cbe66b40d2c0"
      },
      "source": [
        "## 3.4 Evaluacion Anular C"
      ],
      "id": "4dd6bc6b-0e58-40c3-9a1b-cbe66b40d2c0"
    },
    {
      "cell_type": "markdown",
      "metadata": {
        "id": "2DE_2tlAVYoh"
      },
      "source": [
        "![](https://raw.githubusercontent.com/diegojeda/Integridad/0aefef97b64c629bdcb532dfa669e0afa03a52ca/Anular%20C.png)"
      ],
      "id": "2DE_2tlAVYoh"
    },
    {
      "cell_type": "markdown",
      "metadata": {
        "id": "e23f75e3-d8db-4302-95ae-b6970a1fbad7"
      },
      "source": [
        "### 3.4.1 Wellhead"
      ],
      "id": "e23f75e3-d8db-4302-95ae-b6970a1fbad7"
    },
    {
      "cell_type": "code",
      "metadata": {
        "colab": {
          "base_uri": "https://localhost:8080/"
        },
        "id": "4d0636b1-1d85-422f-a634-7fdfba8dfdbc",
        "outputId": "6b30f10a-e8a1-4527-c826-4d22d71ada0b"
      },
      "source": [
        "MAWOP_WH(Pw)"
      ],
      "id": "4d0636b1-1d85-422f-a634-7fdfba8dfdbc",
      "execution_count": 100,
      "outputs": [
        {
          "output_type": "stream",
          "text": [
            "El MAWOP Por Cabezal Es: 4000 Psi\n"
          ],
          "name": "stdout"
        },
        {
          "output_type": "execute_result",
          "data": {
            "text/plain": [
              "4000"
            ]
          },
          "metadata": {
            "tags": []
          },
          "execution_count": 100
        }
      ]
    },
    {
      "cell_type": "markdown",
      "metadata": {
        "id": "15d47bbc-1878-45b1-b570-4782b5d16651"
      },
      "source": [
        "### 3.4.2 Equipos De Completamiento"
      ],
      "id": "15d47bbc-1878-45b1-b570-4782b5d16651"
    },
    {
      "cell_type": "markdown",
      "metadata": {
        "id": "c5c4eb2c-3bb9-404c-bc1e-07bb72163806"
      },
      "source": [
        "No hay equipos de completamiento en el Anular C"
      ],
      "id": "c5c4eb2c-3bb9-404c-bc1e-07bb72163806"
    },
    {
      "cell_type": "markdown",
      "metadata": {
        "id": "9717865d-2bce-4077-8972-fb53f3bb4bfd"
      },
      "source": [
        "### 3.4.3 Falla Por Fractura De Formacion"
      ],
      "id": "9717865d-2bce-4077-8972-fb53f3bb4bfd"
    },
    {
      "cell_type": "code",
      "metadata": {
        "colab": {
          "base_uri": "https://localhost:8080/"
        },
        "id": "437b76e4-2097-4f77-afa9-694c955aaa18",
        "outputId": "7fb1045a-370b-415e-f1c0-503d8239fff7"
      },
      "source": [
        "MAWOP_For(Tubulares,Anulares, \"Anular C\")"
      ],
      "id": "437b76e4-2097-4f77-afa9-694c955aaa18",
      "execution_count": 101,
      "outputs": [
        {
          "output_type": "stream",
          "text": [
            "El MAWOP Por Fractura De Formacion Es: 7600 Psi\n"
          ],
          "name": "stdout"
        }
      ]
    },
    {
      "cell_type": "markdown",
      "metadata": {
        "id": "17017c7c-079a-495b-a074-cef27ca8ceba"
      },
      "source": [
        "### 3.4.4 Falla Por Tubulares"
      ],
      "id": "17017c7c-079a-495b-a074-cef27ca8ceba"
    },
    {
      "cell_type": "code",
      "metadata": {
        "colab": {
          "base_uri": "https://localhost:8080/"
        },
        "id": "5da95d59-a6fb-4ee2-a113-d1e107d32b07",
        "outputId": "77ab939f-90b1-4d31-91bf-7cfb93ee37ba"
      },
      "source": [
        "MAWOP_Tub(Anulares,Tubulares,\"Anular C\")"
      ],
      "id": "5da95d59-a6fb-4ee2-a113-d1e107d32b07",
      "execution_count": 102,
      "outputs": [
        {
          "output_type": "stream",
          "text": [
            "La Evaluacion Del Tubular Actual 13 3/8\" - 68# - K55 Es: 1725 Psi\n",
            "La Evaluacion Del Tubular Interno 10 3/4\" - 55.5# - P110 Es: 4462 Psi\n",
            "La Evaluacion Del Tubular Externo 18 5/8\" - 87.5# - K55 Es: 504 Psi\n",
            "\n",
            "El MAWOP Por Tubulares Es: 504 Psi\n"
          ],
          "name": "stdout"
        }
      ]
    },
    {
      "cell_type": "markdown",
      "metadata": {
        "id": "620d3fa1-5d0d-4f4d-8e77-f26266250d0f"
      },
      "source": [
        "## 3.5 Evaluacion Anular D"
      ],
      "id": "620d3fa1-5d0d-4f4d-8e77-f26266250d0f"
    },
    {
      "cell_type": "markdown",
      "metadata": {
        "id": "3jZwRM96Vcit"
      },
      "source": [
        "![](https://raw.githubusercontent.com/diegojeda/Integridad/0aefef97b64c629bdcb532dfa669e0afa03a52ca/Anular%20D.png)"
      ],
      "id": "3jZwRM96Vcit"
    },
    {
      "cell_type": "markdown",
      "metadata": {
        "id": "3040cf55-a475-473f-8009-6e5c3a30c38e"
      },
      "source": [
        "### 3.5.1 Wellhead"
      ],
      "id": "3040cf55-a475-473f-8009-6e5c3a30c38e"
    },
    {
      "cell_type": "code",
      "metadata": {
        "colab": {
          "base_uri": "https://localhost:8080/"
        },
        "id": "ce0e8a65-00a9-43aa-b681-17187eb6e30f",
        "outputId": "5cb2c626-3a02-44e4-f806-16134acca4dd"
      },
      "source": [
        "MAWOP_WH(Pw)"
      ],
      "id": "ce0e8a65-00a9-43aa-b681-17187eb6e30f",
      "execution_count": 103,
      "outputs": [
        {
          "output_type": "stream",
          "text": [
            "El MAWOP Por Cabezal Es: 4000 Psi\n"
          ],
          "name": "stdout"
        },
        {
          "output_type": "execute_result",
          "data": {
            "text/plain": [
              "4000"
            ]
          },
          "metadata": {
            "tags": []
          },
          "execution_count": 103
        }
      ]
    },
    {
      "cell_type": "markdown",
      "metadata": {
        "id": "2bef76ed-2ebe-4ac4-8b74-b75a58bb12d4"
      },
      "source": [
        "### 3.5.2 Equipos De Completamiento"
      ],
      "id": "2bef76ed-2ebe-4ac4-8b74-b75a58bb12d4"
    },
    {
      "cell_type": "markdown",
      "metadata": {
        "id": "097f88ad-7845-430f-9ef4-511ff076b6bd"
      },
      "source": [
        "No hay equipos de completamiento en el Anular D"
      ],
      "id": "097f88ad-7845-430f-9ef4-511ff076b6bd"
    },
    {
      "cell_type": "markdown",
      "metadata": {
        "id": "c384ece8-4213-4009-9ef5-db95249b3750"
      },
      "source": [
        "### 3.5.3 Falla Por Fractura De Formacion"
      ],
      "id": "c384ece8-4213-4009-9ef5-db95249b3750"
    },
    {
      "cell_type": "code",
      "metadata": {
        "colab": {
          "base_uri": "https://localhost:8080/"
        },
        "id": "7d62d695-a0ef-4e6d-91a5-cc9ad4a31919",
        "outputId": "3e8999aa-0353-4930-8296-10c38dba87df"
      },
      "source": [
        "MAWOP_For(Tubulares,Anulares, \"Anular D\")"
      ],
      "id": "7d62d695-a0ef-4e6d-91a5-cc9ad4a31919",
      "execution_count": 104,
      "outputs": [
        {
          "output_type": "stream",
          "text": [
            "No Tienes Formaciones Expuestas\n"
          ],
          "name": "stdout"
        }
      ]
    },
    {
      "cell_type": "markdown",
      "metadata": {
        "id": "2d521b81-61af-4299-83fa-e739dfc8d96a"
      },
      "source": [
        "### 3.5.4 Falla Por Tubulares"
      ],
      "id": "2d521b81-61af-4299-83fa-e739dfc8d96a"
    },
    {
      "cell_type": "code",
      "metadata": {
        "colab": {
          "base_uri": "https://localhost:8080/"
        },
        "id": "142eca7b-37d8-4471-9e92-85604e7d9871",
        "outputId": "243762a2-8030-47c3-e844-79fe8ac50976"
      },
      "source": [
        "MAWOP_Tub(Anulares,Tubulares,\"Anular D\")"
      ],
      "id": "142eca7b-37d8-4471-9e92-85604e7d9871",
      "execution_count": 105,
      "outputs": [
        {
          "output_type": "stream",
          "text": [
            "La Evaluacion Del Tubular Actual 18 5/8\" - 87.5# - K55 Es: 675 Psi\n",
            "La Evaluacion Del Tubular Interno 13 3/8\" - 68# - K55 Es: 1462 Psi\n",
            "\n",
            "El MAWOP Por Tubulares Es: 675 Psi\n"
          ],
          "name": "stdout"
        }
      ]
    }
  ]
}